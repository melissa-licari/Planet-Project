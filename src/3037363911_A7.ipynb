{
 "cells": [
  {
   "cell_type": "code",
   "execution_count": 1,
   "id": "f068f520",
   "metadata": {},
   "outputs": [
    {
     "name": "stderr",
     "output_type": "stream",
     "text": [
      "/Users/melissalicari/opt/anaconda3/lib/python3.8/site-packages/drawSvg/raster.py:18: RuntimeWarning: Failed to import CairoSVG. drawSvg will be unable to output PNG or other raster image formats. See https://github.com/cduck/drawSvg#prerequisites for more details.\n",
      "Original OSError: no library called \"cairo\" was found\n",
      "no library called \"libcairo-2\" was found\n",
      "cannot load library 'libcairo.so.2': dlopen(libcairo.so.2, 2): image not found\n",
      "cannot load library 'libcairo.2.dylib': dlopen(libcairo.2.dylib, 2): image not found\n",
      "cannot load library 'libcairo-2.dll': dlopen(libcairo-2.dll, 2): image not found\n",
      "  warnings.warn(msg, RuntimeWarning)\n"
     ]
    }
   ],
   "source": [
    "# import necessary libraries\n",
    "import drawSvg as draw\n",
    "import math"
   ]
  },
  {
   "cell_type": "code",
   "execution_count": 2,
   "id": "b72727db",
   "metadata": {},
   "outputs": [],
   "source": [
    "class Body:\n",
    "    # constructor to define variables in the class\n",
    "    def __init__(self, mass, x, y, vx, vy, pixel_radius, r, g, b):\n",
    "        self.mass = mass\n",
    "        self.x = x\n",
    "        self.y = y\n",
    "        self.vx = vx\n",
    "        self.vy = vy\n",
    "        self.pixel_radius = pixel_radius\n",
    "        self.r = r\n",
    "        self.g = g\n",
    "        self.b = b\n",
    "        self.color = '#%02x%02x%02x' % (self.r, self.g, self.b)\n",
    "        self.new_x = 0\n",
    "        self.new_y = 0\n",
    "    \n",
    "    # function returns the x position as a float\n",
    "    def return_x(self):\n",
    "        return float(self.x)\n",
    "    \n",
    "    # function returns the y position as a float\n",
    "    def return_y(self):\n",
    "        return float(self.y)\n",
    "    \n",
    "    # function returns the mass as a float\n",
    "    def return_mass(self):\n",
    "        return float(self.mass)\n",
    "    \n",
    "    # function updates position of body\n",
    "    def update_position(self, timestep):\n",
    "        # checks if positions and velocities are all 0. If so, keeps position 0 (for the sun)\n",
    "        if self.x == 0 and self.y == 0 and self.vx == 0 and self.vy == 0:\n",
    "            self.x = 0\n",
    "            self.y = 0\n",
    "        # updates position for all other cases\n",
    "        else:\n",
    "            self.x += self.vx * timestep\n",
    "            self.y += self.vy * timestep\n",
    "        \n",
    "    # function updates velocity of body    \n",
    "    def update_velocity(self, ax, ay, timestep):\n",
    "        # checks if positions and velocities are all 0. If so, keeps velocity 0 (for the sun)\n",
    "        if self.x == 0 and self.y == 0 and self.vx == 0 and self.vy == 0:\n",
    "            self.vx = 0\n",
    "            self.vy = 0\n",
    "        # updates velocity for all other cases\n",
    "        else:\n",
    "            self.vx += (ax * timestep)\n",
    "            self.vy += (ay * timestep)\n",
    "    \n",
    "    # function draws body\n",
    "    def draw(self, pixels_per_meter):\n",
    "        self.new_x = (pixels_per_meter * self.x)\n",
    "        self.new_y = (pixels_per_meter * self.y)\n",
    "        D.append(draw.Circle(self.new_x, self.new_y, self.pixel_radius, stroke = self.color, fill = self.color))\n",
    "        return D"
   ]
  },
  {
   "cell_type": "code",
   "execution_count": 3,
   "id": "d30c467a",
   "metadata": {},
   "outputs": [],
   "source": [
    "class System:\n",
    "    # constructor function to define variables in the class\n",
    "    def __init__(self, body_list):\n",
    "        self.body_list = body_list\n",
    "        self.ax = 0\n",
    "        self.ay = 0\n",
    "        self.a = 0\n",
    "        self.dx = 0\n",
    "        self.dy = 0\n",
    "    \n",
    "    # function computes acceleration\n",
    "    def compute_acceleration(self, n):\n",
    "        self.ax = 0\n",
    "        self.ay = 0\n",
    "        self.a = 0\n",
    "        for i in range(len(self.body_list)):\n",
    "            if i != n:\n",
    "                self.dx = (self.body_list[i].return_x() - self.body_list[n].return_x())\n",
    "                self.dy = (self.body_list[i].return_y() - self.body_list[n].return_y())\n",
    "                self.r1 = math.sqrt((self.dx**2)+(self.dy**2))\n",
    "                self.a = (6.67384e-11*self.body_list[i].return_mass())/(self.r1**2)\n",
    "                self.ax += self.a * (self.dx)/self.r1\n",
    "                self.ay += self.a * (self.dy)/self.r1\n",
    "        return self.ax, self.ay\n",
    "    \n",
    "    # function updates system by updating velocity and positions of bodies within the system\n",
    "    def update(self, timestep):\n",
    "        for j in range(len(self.body_list)):\n",
    "            self.ax, self.ay = self.compute_acceleration(j)\n",
    "            self.body_list[j].update_velocity(self.ax, self.ay, timestep)\n",
    "            self.body_list[j].update_position(timestep)\n",
    "           \n",
    "    # function draws system        \n",
    "    def draw(self, pixels_per_meter):\n",
    "        for body in self.body_list:\n",
    "            body.draw(pixels_per_meter)\n",
    "        return D"
   ]
  },
  {
   "cell_type": "code",
   "execution_count": 4,
   "id": "bee863b9",
   "metadata": {},
   "outputs": [
    {
     "data": {
      "image/svg+xml": [
       "<?xml version=\"1.0\" encoding=\"UTF-8\"?>\n",
       "<svg xmlns=\"http://www.w3.org/2000/svg\" xmlns:xlink=\"http://www.w3.org/1999/xlink\"\n",
       "     width=\"600\" height=\"600\" viewBox=\"-300.0 -300.0 600 600\">\n",
       "<defs>\n",
       "</defs>\n",
       "<rect x=\"-300\" y=\"-300\" width=\"600\" height=\"600\" fill=\"black\" />\n",
       "<circle cx=\"0.0\" cy=\"-0.0\" r=\"15\" stroke=\"#ffff00\" fill=\"#ffff00\" />\n",
       "<circle cx=\"-43.03210203954387\" cy=\"-15.616369882002868\" r=\"3\" stroke=\"#ff6600\" fill=\"#ff6600\" />\n",
       "<circle cx=\"-32.49523204911222\" cy=\"81.9721529281104\" r=\"6\" stroke=\"#009933\" fill=\"#009933\" />\n",
       "<circle cx=\"120.06409297232327\" cy=\"2.723906002350343\" r=\"7\" stroke=\"#0066ff\" fill=\"#0066ff\" />\n",
       "<circle cx=\"18.535497071494063\" cy=\"-181.1616161647633\" r=\"4\" stroke=\"#cc3300\" fill=\"#cc3300\" />\n",
       "</svg>"
      ],
      "text/plain": [
       "<drawSvg.drawing.Drawing at 0x7ffb10032f10>"
      ]
     },
     "metadata": {},
     "output_type": "display_data"
    },
    {
     "ename": "KeyboardInterrupt",
     "evalue": "",
     "output_type": "error",
     "traceback": [
      "\u001b[0;31m---------------------------------------------------------------------------\u001b[0m",
      "\u001b[0;31mKeyboardInterrupt\u001b[0m                         Traceback (most recent call last)",
      "\u001b[0;32m<ipython-input-4-4f999915cd3e>\u001b[0m in \u001b[0;36m<module>\u001b[0;34m\u001b[0m\n\u001b[1;32m     27\u001b[0m             \u001b[0mD\u001b[0m \u001b[0;34m=\u001b[0m \u001b[0mdraw\u001b[0m\u001b[0;34m.\u001b[0m\u001b[0mDrawing\u001b[0m\u001b[0;34m(\u001b[0m\u001b[0;36m600\u001b[0m\u001b[0;34m,\u001b[0m \u001b[0;36m600\u001b[0m\u001b[0;34m,\u001b[0m \u001b[0morigin\u001b[0m\u001b[0;34m=\u001b[0m\u001b[0;34m'center'\u001b[0m\u001b[0;34m)\u001b[0m \u001b[0;31m# clear canvas\u001b[0m\u001b[0;34m\u001b[0m\u001b[0;34m\u001b[0m\u001b[0m\n\u001b[1;32m     28\u001b[0m             \u001b[0mD\u001b[0m\u001b[0;34m.\u001b[0m\u001b[0mappend\u001b[0m\u001b[0;34m(\u001b[0m \u001b[0mdraw\u001b[0m\u001b[0;34m.\u001b[0m\u001b[0mRectangle\u001b[0m\u001b[0;34m(\u001b[0m\u001b[0;34m-\u001b[0m\u001b[0;36m300\u001b[0m\u001b[0;34m,\u001b[0m\u001b[0;34m-\u001b[0m\u001b[0;36m300\u001b[0m\u001b[0;34m,\u001b[0m\u001b[0;36m600\u001b[0m\u001b[0;34m,\u001b[0m\u001b[0;36m600\u001b[0m\u001b[0;34m,\u001b[0m\u001b[0mfill\u001b[0m\u001b[0;34m=\u001b[0m\u001b[0;34m'black'\u001b[0m\u001b[0;34m)\u001b[0m\u001b[0;34m)\u001b[0m \u001b[0;31m# black background\u001b[0m\u001b[0;34m\u001b[0m\u001b[0;34m\u001b[0m\u001b[0m\n\u001b[0;32m---> 29\u001b[0;31m             \u001b[0manim\u001b[0m\u001b[0;34m.\u001b[0m\u001b[0mdraw_frame\u001b[0m\u001b[0;34m(\u001b[0m\u001b[0;34m)\u001b[0m\u001b[0;34m\u001b[0m\u001b[0;34m\u001b[0m\u001b[0m\n\u001b[0m",
      "\u001b[0;32m~/opt/anaconda3/lib/python3.8/site-packages/drawSvg/animation.py\u001b[0m in \u001b[0;36mdraw_frame\u001b[0;34m(self, *args, **kwargs)\u001b[0m\n\u001b[1;32m     20\u001b[0m     \u001b[0;32mdef\u001b[0m \u001b[0mdraw_frame\u001b[0m\u001b[0;34m(\u001b[0m\u001b[0mself\u001b[0m\u001b[0;34m,\u001b[0m \u001b[0;34m*\u001b[0m\u001b[0margs\u001b[0m\u001b[0;34m,\u001b[0m \u001b[0;34m**\u001b[0m\u001b[0mkwargs\u001b[0m\u001b[0;34m)\u001b[0m\u001b[0;34m:\u001b[0m\u001b[0;34m\u001b[0m\u001b[0;34m\u001b[0m\u001b[0m\n\u001b[1;32m     21\u001b[0m         \u001b[0mframe\u001b[0m \u001b[0;34m=\u001b[0m \u001b[0mself\u001b[0m\u001b[0;34m.\u001b[0m\u001b[0mdraw_func\u001b[0m\u001b[0;34m(\u001b[0m\u001b[0;34m*\u001b[0m\u001b[0margs\u001b[0m\u001b[0;34m,\u001b[0m \u001b[0;34m**\u001b[0m\u001b[0mkwargs\u001b[0m\u001b[0;34m)\u001b[0m\u001b[0;34m\u001b[0m\u001b[0;34m\u001b[0m\u001b[0m\n\u001b[0;32m---> 22\u001b[0;31m         \u001b[0mself\u001b[0m\u001b[0;34m.\u001b[0m\u001b[0mappend_frame\u001b[0m\u001b[0;34m(\u001b[0m\u001b[0mframe\u001b[0m\u001b[0;34m)\u001b[0m\u001b[0;34m\u001b[0m\u001b[0;34m\u001b[0m\u001b[0m\n\u001b[0m\u001b[1;32m     23\u001b[0m         \u001b[0;32mreturn\u001b[0m \u001b[0mframe\u001b[0m\u001b[0;34m\u001b[0m\u001b[0;34m\u001b[0m\u001b[0m\n\u001b[1;32m     24\u001b[0m \u001b[0;34m\u001b[0m\u001b[0m\n",
      "\u001b[0;32m~/opt/anaconda3/lib/python3.8/site-packages/drawSvg/animation.py\u001b[0m in \u001b[0;36mappend_frame\u001b[0;34m(self, frame)\u001b[0m\n\u001b[1;32m     16\u001b[0m     \u001b[0;32mdef\u001b[0m \u001b[0mappend_frame\u001b[0m\u001b[0;34m(\u001b[0m\u001b[0mself\u001b[0m\u001b[0;34m,\u001b[0m \u001b[0mframe\u001b[0m\u001b[0;34m)\u001b[0m\u001b[0;34m:\u001b[0m\u001b[0;34m\u001b[0m\u001b[0;34m\u001b[0m\u001b[0m\n\u001b[1;32m     17\u001b[0m         \u001b[0mself\u001b[0m\u001b[0;34m.\u001b[0m\u001b[0mframes\u001b[0m\u001b[0;34m.\u001b[0m\u001b[0mappend\u001b[0m\u001b[0;34m(\u001b[0m\u001b[0mframe\u001b[0m\u001b[0;34m)\u001b[0m\u001b[0;34m\u001b[0m\u001b[0;34m\u001b[0m\u001b[0m\n\u001b[0;32m---> 18\u001b[0;31m         \u001b[0mself\u001b[0m\u001b[0;34m.\u001b[0m\u001b[0mcallback\u001b[0m\u001b[0;34m(\u001b[0m\u001b[0mframe\u001b[0m\u001b[0;34m)\u001b[0m\u001b[0;34m\u001b[0m\u001b[0;34m\u001b[0m\u001b[0m\n\u001b[0m\u001b[1;32m     19\u001b[0m \u001b[0;34m\u001b[0m\u001b[0m\n\u001b[1;32m     20\u001b[0m     \u001b[0;32mdef\u001b[0m \u001b[0mdraw_frame\u001b[0m\u001b[0;34m(\u001b[0m\u001b[0mself\u001b[0m\u001b[0;34m,\u001b[0m \u001b[0;34m*\u001b[0m\u001b[0margs\u001b[0m\u001b[0;34m,\u001b[0m \u001b[0;34m**\u001b[0m\u001b[0mkwargs\u001b[0m\u001b[0;34m)\u001b[0m\u001b[0;34m:\u001b[0m\u001b[0;34m\u001b[0m\u001b[0;34m\u001b[0m\u001b[0m\n",
      "\u001b[0;32m~/opt/anaconda3/lib/python3.8/site-packages/drawSvg/animation.py\u001b[0m in \u001b[0;36mdraw_jupyter_frame\u001b[0;34m(self, frame)\u001b[0m\n\u001b[1;32m     59\u001b[0m             \u001b[0minput\u001b[0m\u001b[0;34m(\u001b[0m\u001b[0;34m'Next?'\u001b[0m\u001b[0;34m)\u001b[0m\u001b[0;34m\u001b[0m\u001b[0;34m\u001b[0m\u001b[0m\n\u001b[1;32m     60\u001b[0m         \u001b[0;32melif\u001b[0m \u001b[0mself\u001b[0m\u001b[0;34m.\u001b[0m\u001b[0mdelay\u001b[0m \u001b[0;34m!=\u001b[0m \u001b[0;36m0\u001b[0m\u001b[0;34m:\u001b[0m\u001b[0;34m\u001b[0m\u001b[0;34m\u001b[0m\u001b[0m\n\u001b[0;32m---> 61\u001b[0;31m             \u001b[0mtime\u001b[0m\u001b[0;34m.\u001b[0m\u001b[0msleep\u001b[0m\u001b[0;34m(\u001b[0m\u001b[0mself\u001b[0m\u001b[0;34m.\u001b[0m\u001b[0mdelay\u001b[0m\u001b[0;34m)\u001b[0m\u001b[0;34m\u001b[0m\u001b[0;34m\u001b[0m\u001b[0m\n\u001b[0m\u001b[1;32m     62\u001b[0m \u001b[0;34m\u001b[0m\u001b[0m\n\u001b[1;32m     63\u001b[0m     \u001b[0;32mdef\u001b[0m \u001b[0m__enter__\u001b[0m\u001b[0;34m(\u001b[0m\u001b[0mself\u001b[0m\u001b[0;34m)\u001b[0m\u001b[0;34m:\u001b[0m\u001b[0;34m\u001b[0m\u001b[0;34m\u001b[0m\u001b[0m\n",
      "\u001b[0;31mKeyboardInterrupt\u001b[0m: "
     ]
    }
   ],
   "source": [
    "AU = 1.49598e11 # number of meters per astronomical unit\n",
    "EM = 5.9736e24  # mass of the Earth in kilograms\n",
    "\n",
    "TIME_SCALE = 3.0e6              # how many real seconds for each second of simulation\n",
    "PIXELS_PER_METER = 120. / AU    # distance scale for the simulation\n",
    "\n",
    "FRAME_RATE = 30\n",
    "TIMESTEP = 1.0 / FRAME_RATE     # time between drawing each frame\n",
    "\n",
    "# Solar system data comes from\n",
    "#   http://hyperphysics.phy-astr.gsu.edu/hbase/solar/soldata2.html\n",
    "sun     = Body(1.98892e30, 0, 0, 0, 0, 15, 255, 255, 0)\n",
    "mercury = Body(.06 * EM, -.3871 * AU, 0, 0, 47890, 3, 255, 102, 0)\n",
    "venus   = Body(.82 * EM, -.7233 * AU, 0, 0, 35040, 6, 0, 153, 51)\n",
    "earth   = Body(1.0 * EM, -1.0 * AU, 0, 0, 29790, 7, 0, 102, 255)\n",
    "mars    = Body(.11 * EM, -1.524 * AU, 0, 0, 24140, 4, 204, 51, 0)\n",
    "    \n",
    "solar_system = System([sun, mercury, venus, earth, mars])\n",
    "\n",
    "def draw_frame():\n",
    "    solar_system.draw(PIXELS_PER_METER)\n",
    "    solar_system.update(TIMESTEP * TIME_SCALE)\n",
    "    return( D )\n",
    "\n",
    "with draw.animate_jupyter(draw_frame, delay=0.05) as anim:\n",
    "       while( True ):\n",
    "            D = draw.Drawing(600, 600, origin='center') # clear canvas\n",
    "            D.append( draw.Rectangle(-300,-300,600,600,fill='black')) # black background\n",
    "            anim.draw_frame()"
   ]
  },
  {
   "cell_type": "code",
   "execution_count": null,
   "id": "1fae741e",
   "metadata": {},
   "outputs": [],
   "source": []
  },
  {
   "cell_type": "code",
   "execution_count": null,
   "id": "85e2625d",
   "metadata": {},
   "outputs": [],
   "source": []
  }
 ],
 "metadata": {
  "kernelspec": {
   "display_name": "Python 3",
   "language": "python",
   "name": "python3"
  },
  "language_info": {
   "codemirror_mode": {
    "name": "ipython",
    "version": 3
   },
   "file_extension": ".py",
   "mimetype": "text/x-python",
   "name": "python",
   "nbconvert_exporter": "python",
   "pygments_lexer": "ipython3",
   "version": "3.8.8"
  }
 },
 "nbformat": 4,
 "nbformat_minor": 5
}
